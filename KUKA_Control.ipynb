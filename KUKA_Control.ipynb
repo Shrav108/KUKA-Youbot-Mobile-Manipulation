{
 "cells": [
  {
   "cell_type": "markdown",
   "id": "1550a9c0",
   "metadata": {},
   "source": [
    "### Import Libraries"
   ]
  },
  {
   "cell_type": "code",
   "execution_count": 1,
   "id": "b12e1a21",
   "metadata": {},
   "outputs": [],
   "source": [
    "import numpy as np\n",
    "import matplotlib.pyplot as plt\n",
    "import Robotics as Robotics\n",
    "import Utils\n",
    "import modern_robotics as mr\n",
    "import scipy\n",
    "import pandas as pd"
   ]
  },
  {
   "cell_type": "code",
   "execution_count": 2,
   "id": "1aaf5016",
   "metadata": {},
   "outputs": [],
   "source": [
    "np.set_printoptions(suppress=True)"
   ]
  },
  {
   "cell_type": "markdown",
   "id": "260aae7c",
   "metadata": {},
   "source": [
    "### Create the Robotics Object to access functions"
   ]
  },
  {
   "cell_type": "code",
   "execution_count": 3,
   "id": "429819e2",
   "metadata": {},
   "outputs": [],
   "source": [
    "robotics = Robotics.Robotics()"
   ]
  },
  {
   "cell_type": "code",
   "execution_count": 4,
   "id": "e4f332ce",
   "metadata": {},
   "outputs": [],
   "source": [
    "near_Zero     = lambda matrix : np.where(np.abs(matrix) < 1e-06, 0, matrix)\n",
    "near_Zero_Val = lambda value : 0.0 if np.abs(value) < 1e-06 else value"
   ]
  },
  {
   "cell_type": "markdown",
   "id": "ec18ca23",
   "metadata": {},
   "source": [
    "## Trajectory Generation"
   ]
  },
  {
   "cell_type": "markdown",
   "id": "925a0186",
   "metadata": {},
   "source": [
    "### Reference Trajectory Function"
   ]
  },
  {
   "cell_type": "code",
   "execution_count": 5,
   "id": "9adc165d",
   "metadata": {},
   "outputs": [],
   "source": [
    "def reference_Trajectory(initial_configuration, final_configuration, time, time_step, trajectory_type, time_scaling):\n",
    "    \"\"\"Function to generate reference trajectory or desired trajectory. ===> Type : Free Function.\n",
    "       Parameters:\n",
    "       ===========\n",
    "                  initial_configuration : The Initial SE(3) Configuration; ===> Type : Numpy Matrix; Shape : (4, 4).\n",
    "                  final_configuration   : The Final SE(3) Configuration;   ===> Type : Numpy Matrix; Shape : (4, 4).\n",
    "                  time                  : The Total Time of Trajectory in seconds;   ===> Type : Float.\n",
    "                  time_step             : The Time Step (dt) in seconds;             ===> Type : Float.\n",
    "                  trajectory_type       : Screw ('S') or Cartesian ('C') Trajectory; ===> Type : String.\n",
    "                  time_scaling          : Cubic ('C') or Quintic ('Q') time scaling; ===> Type : String.\n",
    "       Return:\n",
    "       ===========\n",
    "                  trajectory : The Desired Trajectory; ===> Type : Numpy Tensor; Shape : (n_points, 4, 4).\n",
    "    \"\"\"\n",
    "    \n",
    "    ### Check Inputs\n",
    "    assert initial_configuration.shape == (4, 4),            \"Shape of Initial Configuration Matrix should be (4, 4).\"\n",
    "    assert np.isnan(initial_configuration).any() == False,   \"There is a NaN value in Initial Configuration Matrix.\"\n",
    "    assert final_configuration.shape   == (4, 4),            \"Shape of Final Configuration Matrix should be (4, 4).\"\n",
    "    assert np.isnan(final_configuration).any() == False,     \"There is a NaN value in Final Configuration Matrix.\"\n",
    "    assert trajectory_type == 'S' or trajectory_type == 'C', \"Trajectory Type should be 'S' or 'C'.\"\n",
    "    assert time_scaling == 'C' or time_scaling == 'Q',       \"Time Scaling should be 'C' or 'Q'.\"\n",
    "    \n",
    "    ### Select Trajectory Function : Screw or Cartesian\n",
    "    if trajectory_type == 'S':\n",
    "        trajectory_function = robotics.screw_Trajectory\n",
    "\n",
    "    elif trajectory_type == 'C':\n",
    "        trajectory_function = robotics.cartesian_Trajectory\n",
    "        \n",
    "    ### Calculate Number of Points in the trajectory\n",
    "    n_points = int((time/time_step))\n",
    "    \n",
    "    ### Generate the Trajectory\n",
    "    trajectory = trajectory_function(initial_configuration, final_configuration, time, n_points, time_scaling)\n",
    "        \n",
    "    return trajectory"
   ]
  },
  {
   "cell_type": "markdown",
   "id": "c6a1fa8e",
   "metadata": {},
   "source": [
    "### Helper Function to Duplicate SE3 during Grasping"
   ]
  },
  {
   "cell_type": "code",
   "execution_count": 6,
   "id": "e312bbb1",
   "metadata": {},
   "outputs": [],
   "source": [
    "def duplicate_Trajectory(configuration, n_points):\n",
    "    \"\"\"Duplicates the Configuration n times. ===> Type : Free Function.\n",
    "       Parameters:\n",
    "       ===========\n",
    "                  configuration : The SE(3) Configuration; ===> Type : Numpy Matrix; Shape : (4, 4).\n",
    "                  n_points      : The number of points;    ===> Type : Int.\n",
    "       Return:\n",
    "       ===========\n",
    "                  trajectory : The Trajectory during grasping; ===> Type : Numpy Tensor; Shape : (n_points, 4, 4).\n",
    "    \"\"\"\n",
    "    ### Check Inputs\n",
    "    assert configuration.shape == (4, 4) ,         \"Shape of Configuration Matrix should be (4, 4).\"\n",
    "    assert np.isnan(configuration).any() == False, \"There is a NaN value in Configuration Matrix.\"\n",
    "    \n",
    "    ### Create trajectory tensor of shape (n_points, 4, 4)\n",
    "    trajectory = np.empty((n_points, 4, 4)) * np.nan\n",
    "    \n",
    "    ### Assign configuration to all the matrices in the trajectory\n",
    "    trajectory[:, :, :] = configuration\n",
    "    \n",
    "    ### Check if there is no nan values and return\n",
    "    if np.isnan(trajectory).any() == False:\n",
    "        return trajectory\n",
    "    else:\n",
    "        raise Utils.ThereIsNan"
   ]
  },
  {
   "cell_type": "markdown",
   "id": "c753800f",
   "metadata": {},
   "source": [
    "#### Initialize Configuration Points"
   ]
  },
  {
   "cell_type": "code",
   "execution_count": 7,
   "id": "162e6e76",
   "metadata": {},
   "outputs": [],
   "source": [
    "TSB = np.array([[1, 0, 0, 0], [0, 1, 0, 0], [0, 0, 1, 0.0963], [0, 0, 0, 1]])"
   ]
  },
  {
   "cell_type": "code",
   "execution_count": 8,
   "id": "6afa57d1",
   "metadata": {},
   "outputs": [],
   "source": [
    "R_Y = np.array([[np.cos(3*(np.pi/4)), 0, np.sin(3*(np.pi/4))], [0, 1, 0],[-np.sin(3*np.pi/4), 0, np.cos(3*np.pi/4)]])\n",
    "R_Z = np.array([[np.cos(-np.pi/2), -np.sin(-np.pi/2), 0], [np.sin(-np.pi/2), np.cos(-np.pi/2), 0], \n",
    "                [0, 0, 1]])\n",
    "R_4 = np.dot(R_Z, R_Y)"
   ]
  },
  {
   "cell_type": "code",
   "execution_count": 71,
   "id": "287477f6",
   "metadata": {},
   "outputs": [],
   "source": [
    "TSE_1 = np.array([[1, 0, 0, 0.1992], [0, 1, 0, 0], [0, 0, 1, 0.7535], [0, 0, 0, 1]])\n",
    "# TSE_2 = np.array([[-1, 0, 0, 1], [0, 1, 0, 0],  [0, 0, -1, 0.075], [0, 0, 0, 1]])\n",
    "TSE_2 = np.array([[np.cos(3*(np.pi/4)), 0, np.sin(3*(np.pi/4)), 1], [0, 1, 0, 0],\n",
    "                   [-np.sin(3*np.pi/4), 0, np.cos(3*np.pi/4), 0.075], [0, 0, 0, 1]])\n",
    "# TSE_3 = np.array([[-1, 0, 0, 1], [0, 1, 0, 0],  [0, 0, -1, 0.025], [0, 0, 0, 1]])\n",
    "TSE_3 = np.array([[np.cos(3*(np.pi/4)), 0, np.sin(3*(np.pi/4)), 1], [0, 1, 0, 0],  \n",
    "                  [-np.sin(3*np.pi/4), 0, np.cos(3*np.pi/4), 0.025], [0, 0, 0, 1]])\n",
    "TSE_4 = np.array([[0, +1, 0, 0], [1, 0, 0, -1], [0, 0, -1, 0.075], [0, 0, 0, 1]])\n",
    "TSE_4[0:-1, 0:-1] = R_4\n",
    "TSE_5 = np.array([[0, 1, 0, 0],  [1, 0, 0, -1], [0, 0, -1, 0.01],  [0, 0, 0, 1]])\n",
    "TSE_5[0:-1, 0:-1] = R_4"
   ]
  },
  {
   "cell_type": "code",
   "execution_count": 72,
   "id": "f6990c7c",
   "metadata": {},
   "outputs": [],
   "source": [
    "traj_type  = 'S'\n",
    "time_scale = 'C'"
   ]
  },
  {
   "cell_type": "markdown",
   "id": "7168dfc9",
   "metadata": {},
   "source": [
    "#### Trajectory 1"
   ]
  },
  {
   "cell_type": "code",
   "execution_count": 73,
   "id": "2fbfc88c",
   "metadata": {},
   "outputs": [],
   "source": [
    "trajectory_1 = reference_Trajectory(TSE_1, TSE_2, 5, 0.01, traj_type, time_scale)"
   ]
  },
  {
   "cell_type": "markdown",
   "id": "0dc6dc7f",
   "metadata": {},
   "source": [
    "#### Trajectory_2"
   ]
  },
  {
   "cell_type": "code",
   "execution_count": 74,
   "id": "b15548c8",
   "metadata": {},
   "outputs": [],
   "source": [
    "trajectory_2 = reference_Trajectory(TSE_2, TSE_3, 2, 0.01, traj_type, time_scale)"
   ]
  },
  {
   "cell_type": "markdown",
   "id": "092f85d6",
   "metadata": {},
   "source": [
    "#### Trajectory 3"
   ]
  },
  {
   "cell_type": "code",
   "execution_count": 75,
   "id": "6b535b21",
   "metadata": {},
   "outputs": [],
   "source": [
    "trajectory_3 = duplicate_Trajectory(TSE_3, 63)"
   ]
  },
  {
   "cell_type": "markdown",
   "id": "931b30a6",
   "metadata": {},
   "source": [
    "#### Trajectory 4"
   ]
  },
  {
   "cell_type": "code",
   "execution_count": 76,
   "id": "ecb4fc80",
   "metadata": {},
   "outputs": [],
   "source": [
    "trajectory_4 = reference_Trajectory(TSE_3, TSE_2, 2, 0.01, traj_type, time_scale)"
   ]
  },
  {
   "cell_type": "markdown",
   "id": "8ed66ee9",
   "metadata": {},
   "source": [
    "#### Trajectory 5"
   ]
  },
  {
   "cell_type": "code",
   "execution_count": 77,
   "id": "0d78d7aa",
   "metadata": {},
   "outputs": [],
   "source": [
    "trajectory_5 = reference_Trajectory(TSE_2, TSE_4, 5, 0.01, traj_type, time_scale)"
   ]
  },
  {
   "cell_type": "markdown",
   "id": "e24813de",
   "metadata": {},
   "source": [
    "#### Trajectory 6"
   ]
  },
  {
   "cell_type": "code",
   "execution_count": 78,
   "id": "66350d4a",
   "metadata": {},
   "outputs": [],
   "source": [
    "trajectory_6 = reference_Trajectory(TSE_4, TSE_5, 2, 0.01, traj_type, time_scale)"
   ]
  },
  {
   "cell_type": "markdown",
   "id": "23add750",
   "metadata": {},
   "source": [
    "#### Trajectory 7"
   ]
  },
  {
   "cell_type": "code",
   "execution_count": 79,
   "id": "73c5a6a1",
   "metadata": {},
   "outputs": [],
   "source": [
    "trajectory_7 = duplicate_Trajectory(TSE_5, 63)"
   ]
  },
  {
   "cell_type": "markdown",
   "id": "186a3623",
   "metadata": {},
   "source": [
    "#### Trajectory 8"
   ]
  },
  {
   "cell_type": "code",
   "execution_count": 80,
   "id": "e6633f75",
   "metadata": {},
   "outputs": [],
   "source": [
    "trajectory_8 = reference_Trajectory(TSE_5, TSE_4, 2, 0.01, traj_type, time_scale)"
   ]
  },
  {
   "cell_type": "markdown",
   "id": "cd672223",
   "metadata": {},
   "source": [
    "#### Combine all Reference Trajectories"
   ]
  },
  {
   "cell_type": "code",
   "execution_count": 81,
   "id": "6c8f3fd7",
   "metadata": {},
   "outputs": [],
   "source": [
    "def combine_Trajectories(list_trajectory, list_gripper_act):\n",
    "    \"\"\"Function to combine reference trajectory and gripper actuation. ===> Type : Free Function.\n",
    "       Parameters:\n",
    "       ===========\n",
    "                  list_trajectory  : The list of trajectory; ===> Type : List; Length : m; \n",
    "                                     -------- Data : Numpy Matrix; Shape : (n, 4, 4).\n",
    "                  list_gripper_act : The list of gripper position @ particular trajectory as per trajectories \n",
    "                                     in the list_trajectory; ===> Type : List; Length : m; Data : Int.\n",
    "       Return:\n",
    "       ===========\n",
    "                  reference_trajectory : A list of list containing SE(3) Configuration and gripper actuation; ===> Type : List; \n",
    "                                         -------- Data : List of Numpy Matrix(Shape : (4,4)) and Gripper Actuation(Int).                              \n",
    "    \"\"\"\n",
    "    ### Create an empty list\n",
    "    reference_trajectory = []  \n",
    "    \n",
    "    ### Loop through the list_trajectory and list_gripper_act\n",
    "    for trajectory, gripper in zip(list_trajectory, list_gripper_act):\n",
    "        for SE_3_matrix in trajectory:\n",
    "            reference_trajectory.append([SE_3_matrix, gripper])\n",
    "\n",
    "    ### Return\n",
    "    return reference_trajectory"
   ]
  },
  {
   "cell_type": "code",
   "execution_count": 82,
   "id": "453a63c3",
   "metadata": {},
   "outputs": [],
   "source": [
    "list_trajectory  = [trajectory_1, trajectory_2, trajectory_3, trajectory_4, trajectory_5, trajectory_6, trajectory_7, trajectory_8]\n",
    "list_gripper_act = [0, 0, 1, 1, 1, 1, 0, 0]\n",
    "\n",
    "### CombineTrajectory\n",
    "reference_traj = combine_Trajectories(list_trajectory, list_gripper_act)"
   ]
  },
  {
   "cell_type": "code",
   "execution_count": null,
   "id": "6d9b177a",
   "metadata": {},
   "outputs": [],
   "source": []
  },
  {
   "cell_type": "markdown",
   "id": "0066ff25",
   "metadata": {},
   "source": [
    "### Velocity Integrator"
   ]
  },
  {
   "cell_type": "code",
   "execution_count": 83,
   "id": "35819342",
   "metadata": {},
   "outputs": [],
   "source": [
    "def integrator(c_velocity, p_angle, dt):\n",
    "    \"\"\"Function which integrates velocity to angle using first-order Euler. ===> Type : Free Function.\n",
    "       Parameters:\n",
    "       ===========\n",
    "                  c_velocity : The current joint and wheel velocity in rad/s; ===> Type : Numpy Matrix; Shape : (n_joints + n_wheel, 1)\n",
    "                  p_angle    : The previous joint and wheel angles in rad;    ===> Type : Numpy Matrix; Shape : (n_joints + n_wheel, 1)\n",
    "                  dt         : The Time Step size; ===> Type : Float.\n",
    "       Return:\n",
    "       ===========\n",
    "                  The current joint and wheel angles in rad; ===> Type : Numpy Array; Shape : (n_joints + n_wheel, 1).\n",
    "    \"\"\"\n",
    "    ### Check Inuts\n",
    "    assert p_angle.shape == c_velocity.shape,   \"Shape of Velocity and Angle Matrix is not equal.\"\n",
    "    assert np.isnan(c_velocity).any() == False, \"There is a NaN value in Velocity Matrix.\"\n",
    "    assert np.isnan(p_angle).any() == False,    \"There is a NaN value in Angle Matrix.\"\n",
    "    \n",
    "    ### Return\n",
    "    return p_angle + (c_velocity * dt) # First Order Euler Step"
   ]
  },
  {
   "cell_type": "markdown",
   "id": "889a63a8",
   "metadata": {},
   "source": [
    "### Odometry"
   ]
  },
  {
   "cell_type": "code",
   "execution_count": 84,
   "id": "9b2346d5",
   "metadata": {},
   "outputs": [],
   "source": [
    "l_youbot = 0.235  # l value of Youbot; 2l = 0.47 m\n",
    "w_youbot = 0.150  # w value of Youbot; 2w = 0.30 m\n",
    "r_youbot = 0.0475 # r value of Youbot; r = 0.0475 m\n",
    "l_w = 1/(l_youbot + w_youbot) # 1 / (l +w)\n",
    "r_4 = r_youbot * 0.25         # r / 4"
   ]
  },
  {
   "cell_type": "code",
   "execution_count": 85,
   "id": "92d11c8b",
   "metadata": {},
   "outputs": [],
   "source": [
    "def odometry(delta_theta, p_config_q, p_head_phi):\n",
    "    \"\"\"Function which calculates chasis configuration using odometry. ===> Type : Free Function.\n",
    "       Parameters:\n",
    "       ===========\n",
    "                  delta_theta : The change in wheel angles;  ===> Type : Numpy Matrix; Shape : (4, 1).\n",
    "                  p_config_q  : The Previous Configuration;  ===> Type : Numpy Matrix; Shape : (3, 1).\n",
    "                  p_head_phi  : The Previous Heading in rad; ===< Type : Float.\n",
    "       Return:\n",
    "       ===========\n",
    "                  c_config_q : The Current Configuration; ===> Type : Numpy Matrix; Shape : (3, 1).\n",
    "                  TBB_       : The SE(3) Congiguration between previous frame and current frame; ===> Type : Numpy Matrix; Shape : (4, 4).\n",
    "    \"\"\"\n",
    "    ### Check Inputs\n",
    "    assert delta_theta.shape == (4, 1), \"Shape of delta_theta is not (4, 1).\"\n",
    "    assert p_config_q.shape == (3, 1),  \"Shape of Velocity and Angle Matrix is not (3, 1).\"\n",
    "    \n",
    "    ### Compute F Vector\n",
    "    F  = r_4 * np.array([[-l_w, l_w, l_w, -l_w], [1, 1, 1, 1], [-1, 1, -1, 1]]) # Shape : (3, 4)\n",
    "    \n",
    "    ### Compute Planar Twist Vb\n",
    "    Vb =  np.dot(F, delta_theta) # Shape : (3, 1)\n",
    "    wbz, vbx, vby = Vb.ravel()   # Destructure the Array\n",
    "    \n",
    "    ### Create Saptial Twist Vb_6\n",
    "    Vb_6 = np.array([[0], [0], [wbz], [vbx], [vby], [0]]) # Shape : (6, 1)\n",
    "    \n",
    "    ### Calculate TBB_\n",
    "    Vb6_se3 = robotics.vector_To_SE3(Vb_6.ravel())             # Shape : (4, 4) in se(3)\n",
    "    TBB_    = robotics.matrix_Exponential_Screw(Vb6_se3, 1.0)  # Shape : (4, 4) in SE(3)\n",
    "    \n",
    "    ### Calculate delta_qb\n",
    "    if near_Zero_Val(wbz) == 0.0:\n",
    "        delta_qb = np.array([[0], [vbx], [vby]]) # Shape : (3, 1)\n",
    "    else:\n",
    "        delta_qb = np.array([[wbz],\n",
    "                            [(vbx*np.sin(wbz) + vby*(np.cos(wbz)-1))/wbz],\n",
    "                            [(vby*np.sin(wbz) + vbx*(1-np.cos(wbz)))/wbz]]) # Shape : (3, 1)\n",
    "    \n",
    "    ### Calculate delta_q\n",
    "    R = np.array([[1, 0, 0], \n",
    "                  [0, np.cos(p_head_phi), -np.sin(p_head_phi)], \n",
    "                  [0, np.sin(p_head_phi), np.cos(p_head_phi)]])  # Shape : (3, 3)\n",
    "    delta_q = np.dot(R, delta_qb)                                # Shape : (3, 1)\n",
    "    \n",
    "    ### Calculate New Configuration\n",
    "    c_config_q = p_config_q + delta_q  # Shape : (3, 1)\n",
    "    \n",
    "    ### Return \n",
    "    return c_config_q, TBB_"
   ]
  },
  {
   "cell_type": "markdown",
   "id": "65c8835e",
   "metadata": {},
   "source": [
    "### Space Frame Transformer"
   ]
  },
  {
   "cell_type": "markdown",
   "id": "34cae84a",
   "metadata": {},
   "source": [
    "#### Parameters for Forward Kinematics"
   ]
  },
  {
   "cell_type": "code",
   "execution_count": 86,
   "id": "8d1292da",
   "metadata": {},
   "outputs": [],
   "source": [
    "M0E = np.array([[1, 0, 0, 0.033], [0, 1, 0, 0], [0, 0, 1, 0.6546], [0, 0, 0, 1]])  # M0E Matrix\n",
    "TB0 = np.array([[1, 0, 0, 0.1662], [0, 1, 0, 0], [0, 0, 1, 0.0026], [0, 0, 0, 1]]) # TB0 Matrix\n",
    "T0B = robotics.inverse_T_Matrix(TB0)\n",
    "\n",
    "### Screw Axis\n",
    "B1 = np.array([0, 0, 1, 0, 0.033, 0])\n",
    "B2 = np.array([0, -1, 0, -0.5076, 0, 0])\n",
    "B3 = np.array([0, -1, 0, -0.3526, 0, 0])\n",
    "B4 = np.array([0, -1, 0, -0.2176, 0, 0])\n",
    "B5 = np.array([0, 0, 1, 0, 0, 0])\n",
    "\n",
    "### Screw List\n",
    "screw_list = [B1, B2, B3, B4, B5]\n",
    "\n",
    "### Screw List\n",
    "S5 = np.array([0, 0, 1, 0, -0.033, 0])\n",
    "S4 = np.array([0, -1, 0, 0.437, 0, -0.033])\n",
    "S3 = np.array([0, -1, 0, 0.302, 0, -0.033])\n",
    "S2 = np.array([0, -1, 0, 0.147, 0, -0.033])\n",
    "S1 = np.array([0, 0, 1, 0, 0, 0])\n",
    "screw_list_ = [S1, S2, S3, S4, S5]"
   ]
  },
  {
   "cell_type": "code",
   "execution_count": 87,
   "id": "11aa0090",
   "metadata": {},
   "outputs": [],
   "source": [
    "def space_Frame_Transformer(TSB, TBB_, angles):\n",
    "    \"\"\"Function to obtain actual/updated configuration b/w space frame & end-effector frame. ===> Type : Free Function.\n",
    "       Parameters:\n",
    "       ===========\n",
    "                  TSB    : The SE(3) b/w space and end-effector frame;    ===> Type : Numpy Matrix; Shape = (4, 4).\n",
    "                  TBB_   : The SE(3) b/w previous and current body frame; ===> Type : Numpy Matrix; Shape = (4, 4).\n",
    "                  angles : The wheel-joint angles from integrator;        ===> Type : Numpy Matrix; Shape = (9, 1).\n",
    "       Return:\n",
    "       ===========\n",
    "                  TSE  : The updated configuration b/w space & end-effector frame; ===> Type : Numpy Matrix; Shape = (4, 4).\n",
    "                  TSB_ : The updated configuration b/w space & chassis frame;      ===> Type : Numpy Matrix; Shape = (4, 4).\n",
    "    \"\"\"\n",
    "    ### Check Inputs\n",
    "    assert TSB.shape    == (4, 4), \"Shape of TSB is not (4, 4).\"\n",
    "    assert TBB_.shape   == (4, 4), \"Shape of TBB_ is not (4, 4).\"\n",
    "    assert angles.shape == (9, 1), \"Shape of angles is not (9, 1).\"\n",
    "    \n",
    "    ### Find updated SE(3) of space frame - body chasis frame\n",
    "    TSB_ = np.dot(TSB, TBB_) # Shape : (4, 4)\n",
    "    \n",
    "    ### Find updated T0E due to chage in joint-angles using forward kinematics\n",
    "    theta_list = [angles[4, 0], angles[5, 0], angles[6, 0], angles[7, 0], angles[8, 0]] # Extract Joint angles\n",
    "    T0E        = robotics.forward_Kinematics_Body(screw_list, theta_list, M0E)          # Shape : (4, 4)\n",
    "    \n",
    "    ### Calculate updated configuration b/w space & end-effector frame\n",
    "    TSE = np.dot(TSB_, np.dot(TB0, T0E))\n",
    "  \n",
    "    ### Return\n",
    "    return TSE, TSB_"
   ]
  },
  {
   "cell_type": "markdown",
   "id": "b8e32205",
   "metadata": {},
   "source": [
    "### Control"
   ]
  },
  {
   "cell_type": "code",
   "execution_count": 88,
   "id": "39e30b0b",
   "metadata": {},
   "outputs": [],
   "source": [
    "def control(TSE_desired, TSE_desired_next, TSE_actual, dt, X_int_error):\n",
    "    \"\"\"Function to obtain End Effector Twist ===> Type : Free Function.\n",
    "       Parameters:\n",
    "       ===========\n",
    "                  TSE_desired : The desired SE(3) configuration; ===> Type : Numpy Matrix; Shape : (4, 4).\n",
    "                  TSE_actual  : The actual SE(3) configuration;  ===> Type : Numpy Matrix; Shape : (4, 4).\n",
    "                  TSE_desired_next : The desired SE(3) configuration in next time step; ===> Type : Numpy Matrix; Shape : (4, 4).\n",
    "                  dt : The time step;                  ===> Type : Float.\n",
    "                  X_int_error : The Integration Error; ===> Type : Numpy Matrix; Shape : (6, 1).\n",
    "       Return:\n",
    "       ===========\n",
    "                  V : The End-Effector Twist;                            ===> Type : Numpy Matrix; Shape : (6, 1).\n",
    "                  X_int_error : The Integration Error after 1 time step; ===> Type : Numpy Matrix; Shape : (6, 1).\n",
    "    \"\"\"\n",
    "    ### Check Inputs\n",
    "    assert TSE_desired.shape == (4, 4),      \"Shape of TSE_desiered is not (4, 4).\"\n",
    "    assert TSE_desired_next.shape == (4, 4), \"Shape of TSE_desired_next is not (4, 4).\"\n",
    "    assert TSE_actual.shape == (4, 4),       \"Shape of TSE_actual is not (4, 4).\"\n",
    "    assert X_int_error.shape == (6, 1),      \"Shape of X_int_error is not (6, 1).\"\n",
    "    assert dt != 0.0,                        \"Time step cannot be zero.\"\n",
    "    \n",
    "    ### Finding Twist\n",
    "    ###### 1. Find Xerror\n",
    "    Xerror = robotics.matrix_Log_6(np.dot(robotics.inverse_T_Matrix(TSE_actual), TSE_desired)) # Shape : (4, 4)\n",
    "    Xerror = robotics.SE3_To_Vector(Xerror) # se(3) to screw axis; Shape : (6)\n",
    "    Xerror = np.expand_dims(Xerror, axis=1) # Shape : (6, 1)\n",
    "    \n",
    "    ###### 2. Find Twist that takes desired to desired_next\n",
    "    Vd = (1/dt)*robotics.matrix_Log_6(np.dot(robotics.inverse_T_Matrix(TSE_desired), TSE_desired_next)) # Shape : (4, 4)\n",
    "    Vd = robotics.SE3_To_Vector(Vd) # se(3) to screw axis; Shape : (6,)\n",
    "    Vd = np.expand_dims(Vd, axis=1) # Shape : (6, 1)\n",
    "    \n",
    "    ###### 3. Find Adjoint of TSE_actual_inv and TSE_desired\n",
    "    Ad = robotics.adjoint(np.dot(robotics.inverse_T_Matrix(TSE_actual), TSE_desired)) # Shape : (6, 6)\n",
    "    \n",
    "    ###### 4. Find the twist\n",
    "    X_int_error = X_int_error + Xerror*dt                               # Shape : (6, 1)\n",
    "    V = np.dot(Ad, Vd) + np.dot(Kp_, Xerror) + np.dot(Ki_, X_int_error) # Shape : (6, 1)\n",
    "    \n",
    "    return V, X_int_error, Xerror\n",
    "    "
   ]
  },
  {
   "cell_type": "markdown",
   "id": "9307bc6a",
   "metadata": {},
   "source": [
    "#### Testing Control"
   ]
  },
  {
   "cell_type": "code",
   "execution_count": 89,
   "id": "3d140769",
   "metadata": {},
   "outputs": [],
   "source": [
    "Kp, Ki = 0.0, 0.0\n",
    "Kp_ = np.eye(6) * Kp\n",
    "Ki_ = np.eye(6) * Ki"
   ]
  },
  {
   "cell_type": "code",
   "execution_count": 90,
   "id": "c547bbda",
   "metadata": {},
   "outputs": [],
   "source": [
    "TSE_desired      = np.array([[0, 0, 1, 0.5], [0, 1, 0, 0], [-1, 0, 0, 0.5], [0, 0, 0, 1]])\n",
    "TSE_desired_next = np.array([[0, 0, 1, 0.6], [0, 1, 0, 0], [-1, 0, 0, 0.3], [0, 0, 0, 1]])\n",
    "TSE_actual       = np.array([[0.17, 0, 0.985, 0.387], [0, 1, 0, 0], [-0.985, 0, 0.17, 0.57], [0, 0, 0, 1]])"
   ]
  },
  {
   "cell_type": "code",
   "execution_count": 91,
   "id": "cc19f06d",
   "metadata": {},
   "outputs": [],
   "source": [
    "V, _, _ = control(TSE_desired, TSE_desired_next, TSE_actual, 0.01, np.zeros((6,1)))"
   ]
  },
  {
   "cell_type": "code",
   "execution_count": 92,
   "id": "9764905d",
   "metadata": {},
   "outputs": [
    {
     "data": {
      "text/plain": [
       "array([[ 0.  ],\n",
       "       [ 0.  ],\n",
       "       [ 0.  ],\n",
       "       [21.4 ],\n",
       "       [ 0.  ],\n",
       "       [ 6.45]])"
      ]
     },
     "execution_count": 92,
     "metadata": {},
     "output_type": "execute_result"
    }
   ],
   "source": [
    "V"
   ]
  },
  {
   "cell_type": "markdown",
   "id": "8c0c6a08",
   "metadata": {},
   "source": [
    "### Velocity of Youbot"
   ]
  },
  {
   "cell_type": "code",
   "execution_count": 187,
   "id": "30bd311f",
   "metadata": {},
   "outputs": [],
   "source": [
    "max_joint_angles = np.array([2.932, 0.191, 1.914, 0.262, 2.890])\n",
    "min_joint_angles = np.array([-2.932, -1.117, -1.4, -0.999, -2.890])"
   ]
  },
  {
   "cell_type": "code",
   "execution_count": 188,
   "id": "c786e886",
   "metadata": {},
   "outputs": [],
   "source": [
    "def test_Joint_Limits(joint_angles):\n",
    "    \"\"\"Tests Joint Angle to avoid singularities. ===> Free Function.\n",
    "       Parameters:\n",
    "       ===========\n",
    "                  joint_angles : The joint angles of the manipulator;     ===> Type : List; Length : 5.\n",
    "       Return:\n",
    "       ===========\n",
    "                  l_ind     : The indices of joint angles which violate joint limits;                ===> Type : List.\n",
    "                  violation : Boolean Value telling if there is any joint which violates the limits; ===> Type : Bool.\n",
    "    \"\"\"\n",
    "    ### Assert\n",
    "    assert len(joint_angles) == 5, \"The length of joint_angles is not 5.\"\n",
    "    \n",
    "    ### Create variables\n",
    "    l_ind = []          # List to store indices of joint which violates joint limits\n",
    "    violation = False   # Variable to indicate that there is violation in joint limits\n",
    "    \n",
    "    ### Loop through the joint_angles\n",
    "    for i, angle in enumerate(joint_angles):\n",
    "        if angle <= min_joint_angles[i] or angle >= max_joint_angles[i]: ## Check Limits\n",
    "            l_ind.append(i)  # Append to List \n",
    "            violation = True # Make violation as true as there is violation in joint limits\n",
    "    \n",
    "    ### Return\n",
    "    return l_ind, violation "
   ]
  },
  {
   "cell_type": "code",
   "execution_count": 240,
   "id": "701dde23",
   "metadata": {},
   "outputs": [],
   "source": [
    "def velocity_Youbot(V, TSE_actual, joint_angles):\n",
    "    \"\"\"Obtains the Velocity of the Youbot by calculating the Jacobian. ===> Type : Free Function.\n",
    "       Parameters:\n",
    "       ===========\n",
    "                  V            : The End-Effector Twist;                      ===> Type : Numpy Matrix; Shape : (6, 1).\n",
    "                  TSE_actual   : The actual SE(3) configuration;              ===> Type : Numpy Matrix; Shape : (4, 4).\n",
    "                  TSB          : The configuration b/w space and chasis body; ===> Type : Numpy Matrix; Shape : (4, 4).\n",
    "                  joint_angles : The Joint Guess list (essentially the previous joint values); ===> Type : List; Length : 5.\n",
    "       Return:\n",
    "       ===========\n",
    "                  The joint-wheel velocities of the youbot; ===> Type : Numpy Matrix; Shape : (9, 1).\n",
    "    \"\"\"\n",
    "    ### Check Inputs\n",
    "    assert V.shape == (6, 1),            \"Shape of Twist is not (6, 1).\"\n",
    "    assert TSE_desired.shape == (4, 4),  \"Shape of TSE_actual is not (4, 4).\"\n",
    "    assert TSB.shape == (4, 4),          \"Shape of TSB is not (4, 4).\"\n",
    "\n",
    "    ###### Find Base Jacobian\n",
    "    ### Compute T0E = T0B . TBS . TSE\n",
    "    T0E = robotics.forward_Kinematics_Body(screw_list, joint_angles, M0E)\n",
    "    \n",
    "    ### Compute F6\n",
    "    F6 = np.zeros((6, 4)) # Shape : (6, 4)\n",
    "    F  = r_4 * np.array([[-l_w, l_w, l_w, -l_w], [1, 1, 1, 1], [-1, 1, -1, 1]]) # Shape : (3, 4)\n",
    "    F6[2:5, :] = F\n",
    "    \n",
    "    ### Computer Jacobian of Chassis\n",
    "    J_base = np.dot(robotics.adjoint(np.dot(robotics.inverse_T_Matrix(T0E), T0B)) , F6) # Shape : (6, 4)\n",
    "    \n",
    "    ###### Find Manuplator Jacobian\n",
    "    ### Check for joint limits violation\n",
    "    list_indices, violation = test_Joint_Limits(joint_angles)\n",
    "\n",
    "    ### Find Jacobian using the obtained joint_angles\n",
    "    J_manipulator = robotics.jacobian_Body(screw_list, joint_angles) # Shape : (6, 5)\n",
    "    \n",
    "    ### Change Manipulator Jacobian if there is violation\n",
    "#     if violation:\n",
    "#         for i in list_indices:\n",
    "#             J_manipulator[:, i] = 0.0\n",
    "            \n",
    "    ### Overall Jacobian\n",
    "    J = np.hstack((J_base, J_manipulator)) # Shape : (6, 9)\n",
    "\n",
    "    ### Return\n",
    "    return np.dot(np.linalg.pinv(J, rcond=1e-04), V)  # Shape : (6, 1)"
   ]
  },
  {
   "cell_type": "code",
   "execution_count": 241,
   "id": "caf67ffe",
   "metadata": {},
   "outputs": [],
   "source": [
    "x= velocity_Youbot(V, TSE_actual, [0, 0, 0.2, -1.6, 0])"
   ]
  },
  {
   "cell_type": "code",
   "execution_count": 242,
   "id": "19200de0",
   "metadata": {},
   "outputs": [
    {
     "data": {
      "text/plain": [
       "array([[1.    , 0.    , 0.    , 0.1992],\n",
       "       [0.    , 1.    , 0.    , 0.    ],\n",
       "       [0.    , 0.    , 1.    , 0.7535],\n",
       "       [0.    , 0.    , 0.    , 1.    ]])"
      ]
     },
     "execution_count": 242,
     "metadata": {},
     "output_type": "execute_result"
    }
   ],
   "source": [
    "reference_traj[0][0]"
   ]
  },
  {
   "cell_type": "markdown",
   "id": "5fc226a2",
   "metadata": {},
   "source": [
    "### Plot"
   ]
  },
  {
   "cell_type": "code",
   "execution_count": 243,
   "id": "1b504d81",
   "metadata": {},
   "outputs": [],
   "source": [
    "def plot_Twist_Error(twist_error):\n",
    "    log_wx = twist_error[:,0]\n",
    "    log_wy = twist_error[:,1]\n",
    "    log_wz = twist_error[:,2]\n",
    "    log_vx = twist_error[:,3]\n",
    "    log_vy = twist_error[:,4]\n",
    "    log_vz = twist_error[:,5]\n",
    "    \n",
    "    plt.figure(figsize=(10, 7))\n",
    "    plt.plot(log_wx, color = 'red', label='WX')\n",
    "    plt.plot(log_wy, color = 'green', label='WY')\n",
    "    plt.plot(log_wz, color = 'blue', label='WZ')\n",
    "    plt.plot(log_vx, color = 'cyan', label='VX')\n",
    "    plt.plot(log_vy, color = 'black', label='VY')\n",
    "    plt.plot(log_vz, color = 'orange', label='WX')\n",
    "    plt.legend()\n",
    "    plt.grid(True)\n",
    "    plt.show()"
   ]
  },
  {
   "cell_type": "markdown",
   "id": "e611226c",
   "metadata": {},
   "source": [
    "### Simulate"
   ]
  },
  {
   "cell_type": "code",
   "execution_count": 244,
   "id": "ef472666",
   "metadata": {},
   "outputs": [],
   "source": [
    "TSE_actual = TSE_1 = np.array([[1, 0, 0, 0.1992], [0, 1, 0, 0.1], [0, 0, 1, 0.7535], [0, 0, 0, 1]])\n",
    "TSB = np.array([[1, 0, 0, 0], [0, 1, 0, 0], [0, 0, 1, 0.0963], [0, 0, 0, 1]])"
   ]
  },
  {
   "cell_type": "code",
   "execution_count": 245,
   "id": "6593053c",
   "metadata": {},
   "outputs": [],
   "source": [
    "def simulate_Youbot(reference_trajectory, TSE_actual=None, TSB=None ):\n",
    "    \"\"\"Simulates the Youbot. ===> Type : Free Function.\n",
    "       Parameters:\n",
    "       ===========\n",
    "                  reference_trajectory : A list containing list of SE(3) Configuration and Gripper Actuation; ===> Type : List.\n",
    "                  TSE_actual  : The actual SE(3) configuration;              ===> Type : Numpy Matrix; Shape : (4, 4).\n",
    "                  TSB         : The configuration b/w space and chasis body; ===> Type : Numpy Matrix; Shape : (4, 4).\n",
    "       Return:\n",
    "       ===========\n",
    "                  A Matrix of configuration, wheel-joint angles and gripper actuation; ===> Type : Numpy Matrix; Shape : (N, 13).\n",
    "                  The Twist Error; ===> Type : Numpy Matrix; Shape : (N, 6).\n",
    "    \"\"\"\n",
    "    ### Create a numpy matrix to store the resulta\n",
    "    data_matrix = np.zeros(shape=(len(reference_trajectory), 13)) # (N, 13)\n",
    "    twist_error = np.zeros(shape=(len(reference_trajectory), 6)) # (N, 6)\n",
    "    \n",
    "    ### Time Step\n",
    "    dt = 0.01\n",
    "    \n",
    "    ### Integration error \n",
    "    X_int_error = np.zeros((6, 1)) # Shape : (6, 1)\n",
    "    \n",
    "    ### Joint angles\n",
    "    joint_angles = [0.0, 0.0, 0.0, 0.0, 0.0] # List of length 5\n",
    "    \n",
    "    ### Angles of joint and wheels in starting position\n",
    "    p_angle = np.zeros((9, 1)) # Shape : (9,1)\n",
    "    \n",
    "    ### Configuration of the chassis @ starting position and chassis angle\n",
    "    p_config_q = np.zeros((3, 1)) # Shape : (3, 1)\n",
    "    p_head_phi = 0.0              # Float\n",
    "    \n",
    "    ### TSE Actual Calculation\n",
    "    T0E = robotics.forward_Kinematics_Body(screw_list, [0, 0, 0, 0, 0], M0E)\n",
    "    TSE_actual = np.dot(TSB, np.dot(TB0, T0E))\n",
    "    \n",
    "    # Loop till the n-1 the element of the reference_trajectory due to TSE_desired_next\n",
    "    for index, SE_3_config_gripper in enumerate(reference_trajectory[:-1]):  \n",
    "        \n",
    "        ### Obtain the desired configuration and TSE_desired_next\n",
    "        TSE_desired, gripper_act = SE_3_config_gripper         # Destructure the List\n",
    "        TSE_desired_next = reference_trajectory[index + 1][0]  # Extract TSE_desired_next\n",
    "\n",
    "        ### Call Control Function to obtain Twist and next time step integration error\n",
    "        V, X_int_error_, Xerror = control(TSE_desired, TSE_desired_next, TSE_actual, dt, X_int_error) # Shape : (6, 1)\n",
    "        twist_error[index+1, :] = Xerror.ravel() # Shape : (6,)\n",
    "        \n",
    "        ### Get velocity of the youbot and clip the velocities\n",
    "        velocities = velocity_Youbot(V, TSE_actual, joint_angles) # Shape : (9, 1)\n",
    "        \n",
    "        ### Clip velocities to a certain range\n",
    "        velocities = np.clip(velocities, a_min=-5, a_max=5) # Shape : (9, 1) \n",
    "        \n",
    "        ### Pass velocities to the integrator\n",
    "        angles = integrator(velocities, p_angle, dt)       # Shape : (9, 1)\n",
    "        \n",
    "        ### Update the Youbot configuration using odometry\n",
    "        delta_theta      = np.expand_dims(angles[0:4, 0] - p_angle[0:4, 0], axis=1) # Shape : (4, 1)\n",
    "        c_config_q, TBB_ = odometry(delta_theta, p_config_q, p_head_phi)            # Shape : (3, 1) & (4, 4) \n",
    "        \n",
    "        ### Get change in Space-End Effector Configuration due to Movement\n",
    "        joint_angles = list(angles[4:, 0]) \n",
    "        T0E = robotics.forward_Kinematics_Body(screw_list, joint_angles, M0E)\n",
    "        TSB = np.array([[np.cos(c_config_q[0, 0]), -np.sin(c_config_q[0, 0]), 0, c_config_q[1, 0]],\n",
    "                        [np.sin(c_config_q[0, 0]), +np.cos(c_config_q[0, 0]), 0, c_config_q[2, 0]],\n",
    "                        [0, 0, 1, 0.0963],\n",
    "                        [0, 0, 0, 1]])\n",
    "        TSE_actual = np.dot(TSB, np.dot(TB0, T0E))\n",
    "        \n",
    "        ### Update values to the data frame array\n",
    "        data_matrix[index+1, 0:3]  = c_config_q[:, 0] # Configuration of chassis\n",
    "        data_matrix[index+1, 3:8]  = angles[4:, 0]    # Manipulator angles\n",
    "        data_matrix[index+1, 8:12] = angles[0:4, 0]   # Wheel angles\n",
    "        data_matrix[index+1, 12]   = gripper_act      # Gripper Actuation\n",
    "        \n",
    "        ### Update Values for next iteration\n",
    "        X_int_error  = X_int_error_        # Update integration error; Shape : (6, 1)\n",
    "        p_angle      = angles              # Update wheel-joint angles; Shape : (9, 1)\n",
    "        p_config_q   = c_config_q          # Update Chassis configuration; Shape : (3, 1)\n",
    "        p_head_phi   = c_config_q[0, 0]    # Update Chassis heading; Type : Float\n",
    "        \n",
    "        \n",
    "    ### Return\n",
    "    return near_Zero(data_matrix), twist_error"
   ]
  },
  {
   "cell_type": "code",
   "execution_count": 246,
   "id": "8e69b95f",
   "metadata": {},
   "outputs": [],
   "source": [
    "TSE_actual = np.array([[1, 0, 0, 0.1992], [0, 1, 0, 0.0], [0, 0, 1, 0.7535], [0, 0, 0, 1]])\n",
    "TSB = np.array([[1, 0, 0, 0], [0, 1, 0, 0.0], [0, 0, 1, 0.0963], [0, 0, 0, 1]])"
   ]
  },
  {
   "cell_type": "code",
   "execution_count": 248,
   "id": "a76949d8",
   "metadata": {},
   "outputs": [
    {
     "data": {
      "image/png": "[encoded data removed]",
      "text/plain": [
       "<Figure size 1000x700 with 1 Axes>"
      ]
     },
     "metadata": {},
     "output_type": "display_data"
    }
   ],
   "source": [
    "Kp, Ki = 50, 0.5\n",
    "Kp_ = np.eye(6) * Kp\n",
    "Ki_ = np.eye(6) * Ki\n",
    "x, twist_error = simulate_Youbot(reference_traj, TSE_actual, TSB)\n",
    "plot_Twist_Error(twist_error)"
   ]
  },
  {
   "cell_type": "code",
   "execution_count": 249,
   "id": "7c1d6fbe",
   "metadata": {},
   "outputs": [],
   "source": [
    "d = pd.DataFrame(x)\n",
    "d.to_csv('d_0.csv', header=None, index=False)"
   ]
  },
  {
   "cell_type": "code",
   "execution_count": null,
   "id": "741f2808",
   "metadata": {},
   "outputs": [],
   "source": []
  },
  {
   "cell_type": "code",
   "execution_count": null,
   "id": "ff98a69b",
   "metadata": {},
   "outputs": [],
   "source": []
  },
  {
   "cell_type": "code",
   "execution_count": null,
   "id": "31db5a8d",
   "metadata": {},
   "outputs": [],
   "source": []
  }
 ],
 "metadata": {
  "kernelspec": {
   "display_name": "Python 3 (ipykernel)",
   "language": "python",
   "name": "python3"
  },
  "language_info": {
   "codemirror_mode": {
    "name": "ipython",
    "version": 3
   },
   "file_extension": ".py",
   "mimetype": "text/x-python",
   "name": "python",
   "nbconvert_exporter": "python",
   "pygments_lexer": "ipython3",
   "version": "3.10.9"
  }
 },
 "nbformat": 4,
 "nbformat_minor": 5
}
